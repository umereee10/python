{
 "cells": [
  {
   "cell_type": "code",
   "execution_count": 1,
   "id": "e0e44d10",
   "metadata": {},
   "outputs": [
    {
     "name": "stdout",
     "output_type": "stream",
     "text": [
      "hello world this is my first python task\n"
     ]
    }
   ],
   "source": [
    "print ('hello world this is my first python task')"
   ]
  },
  {
   "cell_type": "code",
   "execution_count": 2,
   "id": "dccdbc3a",
   "metadata": {},
   "outputs": [
    {
     "name": "stdout",
     "output_type": "stream",
     "text": [
      "5\n"
     ]
    }
   ],
   "source": [
    "x=5\n",
    "print(x)"
   ]
  },
  {
   "cell_type": "code",
   "execution_count": 3,
   "id": "96cc3313",
   "metadata": {},
   "outputs": [
    {
     "data": {
      "text/plain": [
       "int"
      ]
     },
     "execution_count": 3,
     "metadata": {},
     "output_type": "execute_result"
    }
   ],
   "source": [
    "type(x)"
   ]
  },
  {
   "cell_type": "code",
   "execution_count": 4,
   "id": "b796ce71",
   "metadata": {},
   "outputs": [],
   "source": [
    "y=7"
   ]
  },
  {
   "cell_type": "code",
   "execution_count": 5,
   "id": "12192209",
   "metadata": {},
   "outputs": [
    {
     "name": "stdout",
     "output_type": "stream",
     "text": [
      "35\n"
     ]
    }
   ],
   "source": [
    "z=x*y\n",
    "print(z)"
   ]
  },
  {
   "cell_type": "code",
   "execution_count": 6,
   "id": "2f471d84",
   "metadata": {},
   "outputs": [
    {
     "name": "stdout",
     "output_type": "stream",
     "text": [
      "78125\n"
     ]
    }
   ],
   "source": [
    "z=x**y\n",
    "print(z)"
   ]
  },
  {
   "cell_type": "code",
   "execution_count": 7,
   "id": "2c7f49a0",
   "metadata": {},
   "outputs": [
    {
     "name": "stdout",
     "output_type": "stream",
     "text": [
      "0.3181818181818182\n"
     ]
    }
   ],
   "source": [
    "x=22\n",
    "y=7\n",
    "z=y/x\n",
    "print(z)"
   ]
  },
  {
   "cell_type": "code",
   "execution_count": 8,
   "id": "3f207cc7",
   "metadata": {},
   "outputs": [
    {
     "name": "stdout",
     "output_type": "stream",
     "text": [
      "3\n"
     ]
    }
   ],
   "source": [
    "z=x//y\n",
    "print(z)"
   ]
  },
  {
   "cell_type": "code",
   "execution_count": 9,
   "id": "f8490013",
   "metadata": {},
   "outputs": [
    {
     "name": "stdout",
     "output_type": "stream",
     "text": [
      "please enter value: 21\n",
      "147\n"
     ]
    }
   ],
   "source": [
    "x=int(input('please enter value: '))\n",
    "z=x*y\n",
    "print(z)"
   ]
  },
  {
   "cell_type": "code",
   "execution_count": 10,
   "id": "25c7d7c8",
   "metadata": {},
   "outputs": [
    {
     "name": "stdout",
     "output_type": "stream",
     "text": [
      "please input: 45\n",
      "sorry\n",
      "have a great day\n"
     ]
    }
   ],
   "source": [
    "marks= float(input(\"please input: \"))\n",
    "if marks<50:\n",
    "    print(\"sorry\")\n",
    "else:\n",
    "    print(\"wow\")\n",
    "print(\"have a great day\")"
   ]
  },
  {
   "cell_type": "code",
   "execution_count": 11,
   "id": "2f4665ac",
   "metadata": {},
   "outputs": [
    {
     "name": "stdout",
     "output_type": "stream",
     "text": [
      "0 1 2 3 4 5 6 7 8 9 "
     ]
    }
   ],
   "source": [
    "for x in range (10):\n",
    "    print(x,end=' ')\n",
    "\n"
   ]
  },
  {
   "cell_type": "code",
   "execution_count": 12,
   "id": "312613fa",
   "metadata": {},
   "outputs": [
    {
     "name": "stdout",
     "output_type": "stream",
     "text": [
      "enter table no:2\n",
      "2  *  1  =  2\n",
      "2  *  2  =  4\n",
      "2  *  3  =  6\n",
      "2  *  4  =  8\n",
      "2  *  5  =  10\n",
      "2  *  6  =  12\n",
      "2  *  7  =  14\n",
      "2  *  8  =  16\n",
      "2  *  9  =  18\n",
      "2  *  10  =  20\n"
     ]
    }
   ],
   "source": [
    "i=int(input('enter table no:'))\n",
    "for x in range(1,11):\n",
    "    print(i,' * ',x,' = ',x*i)\n",
    "    "
   ]
  },
  {
   "cell_type": "code",
   "execution_count": 13,
   "id": "aeb77827",
   "metadata": {},
   "outputs": [
    {
     "name": "stdout",
     "output_type": "stream",
     "text": [
      "enter first no: 34\n",
      "enter second no: 32\n",
      "34  is greater\n"
     ]
    }
   ],
   "source": [
    "a=int(input('enter first no: '))\n",
    "b=int(input('enter second no: '))\n",
    "if a>b:\n",
    "    print(a,\" is greater\")\n",
    "else:\n",
    "    print(b,\" is greater\")"
   ]
  },
  {
   "cell_type": "code",
   "execution_count": 14,
   "id": "23efe35e",
   "metadata": {},
   "outputs": [
    {
     "name": "stdout",
     "output_type": "stream",
     "text": [
      "enter no: 3\n",
      "3  is odd\n"
     ]
    }
   ],
   "source": [
    "odd=int(input('enter no: '))\n",
    "if odd%2==1:\n",
    "    print(odd,\" is odd\")\n",
    "else:\n",
    "    print(odd,\" is not odd\")"
   ]
  },
  {
   "cell_type": "code",
   "execution_count": 15,
   "id": "7c5977c8",
   "metadata": {},
   "outputs": [
    {
     "name": "stdout",
     "output_type": "stream",
     "text": [
      "*********\n",
      "*\t*\n",
      "*\t*\n",
      "*********\n"
     ]
    }
   ],
   "source": [
    "print('*********')\n",
    "print('*\\t*')\n",
    "print('*\\t*')\n",
    "print('*********')"
   ]
  },
  {
   "cell_type": "code",
   "execution_count": 16,
   "id": "93141fa3",
   "metadata": {},
   "outputs": [
    {
     "name": "stdout",
     "output_type": "stream",
     "text": [
      "enter no 1: 45\n",
      "enter no 2: 34\n",
      "enter no 3: 12\n",
      "2nd max is  34\n"
     ]
    }
   ],
   "source": [
    "n1=int(input('enter no 1: '))\n",
    "n2=int(input('enter no 2: '))\n",
    "n3=int(input('enter no 3: '))\n",
    "if n1>n2:\n",
    "    if n1>n3:\n",
    "        if n2>n3:\n",
    "            print(\"2nd max is \",n2)\n",
    "        else:\n",
    "            print(\"2nd max is \",n3)   \n",
    "    else:\n",
    "        print(\"2nd max is \",n1)        \n",
    "elif n2>n1:\n",
    "    if n2>n3:\n",
    "        if n1>n3:\n",
    "            print(\"2nd max is \",n1)\n",
    "        else:\n",
    "            print(\"2nd max is \",n3)\n",
    "    else:\n",
    "        print(\"2nd max is \",n2)       \n",
    "        \n",
    "elif n3>n1:\n",
    "    if n3>n2:\n",
    "        if n1>n2:\n",
    "            print(\"2nd max is \",n1)\n",
    "        else:\n",
    "            print(\"2nd max is \",n2)\n",
    "    else:\n",
    "        print(\"2nd max is \",n3)       \n",
    "elif n1>n3:\n",
    "    if n1>n2:\n",
    "        if n3>n2:\n",
    "            print(\"2nd max is \",n3)\n",
    "        else:\n",
    "            print(\"2nd max is \",n2)\n",
    "    else:\n",
    "        print(\"2nd max is \",n1)\n",
    "else:\n",
    "    print(\"nothing\")\n"
   ]
  },
  {
   "cell_type": "code",
   "execution_count": 17,
   "id": "a08d1d68",
   "metadata": {},
   "outputs": [
    {
     "name": "stdout",
     "output_type": "stream",
     "text": [
      "enter no : 12356\n",
      "6\n",
      "5\n",
      "3\n",
      "2\n",
      "1\n",
      "sum is : 17\n"
     ]
    }
   ],
   "source": [
    "no=int(input(\"enter no : \"))\n",
    "no1=no\n",
    "rem=0\n",
    "div=0\n",
    "sum=0\n",
    "for x in range(no1):\n",
    "    rem=no1%10\n",
    "    div=no1//10\n",
    "    no1=div\n",
    "    sum = sum+rem\n",
    "    if no1!=0:\n",
    "        print(rem)\n",
    "    else:\n",
    "        print(rem)\n",
    "        break\n",
    "print('sum is :',sum)"
   ]
  },
  {
   "cell_type": "code",
   "execution_count": null,
   "id": "8e5482fb",
   "metadata": {},
   "outputs": [],
   "source": []
  }
 ],
 "metadata": {
  "kernelspec": {
   "display_name": "Python 3",
   "language": "python",
   "name": "python3"
  },
  "language_info": {
   "codemirror_mode": {
    "name": "ipython",
    "version": 3
   },
   "file_extension": ".py",
   "mimetype": "text/x-python",
   "name": "python",
   "nbconvert_exporter": "python",
   "pygments_lexer": "ipython3",
   "version": "3.8.8"
  }
 },
 "nbformat": 4,
 "nbformat_minor": 5
}
